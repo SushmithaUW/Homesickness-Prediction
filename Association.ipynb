{
  "nbformat": 4,
  "nbformat_minor": 0,
  "metadata": {
    "colab": {
      "name": "Association.ipynb",
      "version": "0.3.2",
      "provenance": [],
      "collapsed_sections": [],
      "include_colab_link": true
    },
    "kernelspec": {
      "name": "python3",
      "display_name": "Python 3"
    },
    "accelerator": "GPU"
  },
  "cells": [
    {
      "cell_type": "markdown",
      "metadata": {
        "id": "view-in-github",
        "colab_type": "text"
      },
      "source": [
        "<a href=\"https://colab.research.google.com/github/SushmithaUW/Homesickness-Prediction/blob/master/Association.ipynb\" target=\"_parent\"><img src=\"https://colab.research.google.com/assets/colab-badge.svg\" alt=\"Open In Colab\"/></a>"
      ]
    },
    {
      "cell_type": "code",
      "metadata": {
        "id": "M2tTtcgJLUsZ",
        "colab_type": "code",
        "colab": {}
      },
      "source": [
        "import warnings\n",
        "warnings.filterwarnings(\"ignore\")\n",
        "\n",
        "import pandas as pd\n",
        "import random\n",
        "from sklearn.model_selection import train_test_split # Import train_test_split function\n",
        "from sklearn import metrics\n",
        "from sklearn import preprocessing\n",
        "\n",
        "\n",
        "from sklearn.linear_model import LogisticRegression\n",
        "from sklearn.naive_bayes import MultinomialNB\n",
        "from sklearn.tree import DecisionTreeClassifier # Import Decision Tree Classifier\n",
        "\n",
        "from sklearn.model_selection import KFold\n",
        "from sklearn.model_selection import cross_val_score\n",
        "from sklearn.metrics import accuracy_score,recall_score,precision_score,f1_score\n",
        "from sklearn.metrics import confusion_matrix\n",
        "from sklearn.utils import shuffle\n",
        "from sklearn.model_selection import GridSearchCV\n",
        "\n",
        "import matplotlib.pyplot as plt\n",
        "import seaborn as sns\n",
        "from sklearn.metrics import accuracy_score\n",
        "from sklearn.preprocessing import OneHotEncoder, LabelEncoder\n",
        "\n",
        "import mlxtend\n",
        "from mlxtend.preprocessing import TransactionEncoder\n",
        "from mlxtend.frequent_patterns import apriori, association_rules\n"
      ],
      "execution_count": 0,
      "outputs": []
    },
    {
      "cell_type": "code",
      "metadata": {
        "id": "5VTID2tRLift",
        "colab_type": "code",
        "outputId": "eec71468-09be-4a2c-da49-e42ad0fd88c3",
        "colab": {
          "base_uri": "https://localhost:8080/",
          "height": 306
        }
      },
      "source": [
        "#load the data\n",
        "train = pd.read_csv('data.csv')\n",
        "train.head()\n",
        "\n",
        "#remove the unwanted columns and rows containing null values\n",
        "train = train.drop('Timestamp',axis=1)\n",
        "train = train.drop('Unnamed: 13', axis=1)\n",
        "train = train.drop('Unnamed: 14', axis=1)\n",
        "\n",
        "\n",
        "#Make the column header readable\n",
        "train.columns=['Age', 'Gender', 'International_Student', 'Educational_level', 'Course_difficulty', 'Networking', 'Financial_aid', 'Friends', 'Siblings', 'Howmetown_visits', 'Cooking', 'Homesickness']\n",
        "train.info()"
      ],
      "execution_count": 0,
      "outputs": [
        {
          "output_type": "stream",
          "text": [
            "<class 'pandas.core.frame.DataFrame'>\n",
            "RangeIndex: 116 entries, 0 to 115\n",
            "Data columns (total 12 columns):\n",
            "Age                      116 non-null object\n",
            "Gender                   116 non-null object\n",
            "International_Student    115 non-null object\n",
            "Educational_level        116 non-null object\n",
            "Course_difficulty        116 non-null int64\n",
            "Networking               116 non-null object\n",
            "Financial_aid            116 non-null object\n",
            "Friends                  116 non-null object\n",
            "Siblings                 116 non-null object\n",
            "Howmetown_visits         116 non-null object\n",
            "Cooking                  116 non-null object\n",
            "Homesickness             116 non-null object\n",
            "dtypes: int64(1), object(11)\n",
            "memory usage: 11.0+ KB\n"
          ],
          "name": "stdout"
        }
      ]
    },
    {
      "cell_type": "code",
      "metadata": {
        "id": "S4Hhk9CCLkF1",
        "colab_type": "code",
        "outputId": "cab98abf-1a06-40e3-e147-1c618a320f9d",
        "colab": {
          "base_uri": "https://localhost:8080/",
          "height": 901
        }
      },
      "source": [
        "#There are same values (I don't know, Thirce, Twice, etc,) amoung columns\n",
        "#We will try to uniquely represent the values of each of the column. \n",
        "df = []\n",
        "df = train['Course_difficulty']\n",
        "df.replace(1,'Easy',True)\n",
        "df.replace(2,'Easy',True)\n",
        "df.replace(3,'Moderate',True)\n",
        "df.replace(4,'Moderate',True)\n",
        "df.replace(5,'Difficult',True)\n",
        "train['Course_difficulty'] = df\n",
        "train['Course_difficulty'].unique()\n",
        "\n",
        "df = []\n",
        "df = train['Networking']\n",
        "df.replace(\"I don't know\",'Does not know about netwrking',True)\n",
        "df.replace('Once','Networking happens once',True)\n",
        "df.replace('Twice','Networking happens twice',True)\n",
        "df.replace('Thrice or more','Networking happens often',True)\n",
        "train['Networking'] = df\n",
        "train['Networking'].unique()\n",
        "\n",
        "df = []\n",
        "df = train['Financial_aid']\n",
        "df.replace(\"I don't know\",'Does not know about financial aid',True)\n",
        "df.replace('Yes','University provides financial aid',True)\n",
        "df.replace('No','University does not provide financial aid',True)\n",
        "df.replace('Thrice or more','Networking happens often',True)\n",
        "train['Financial_aid'] = df\n",
        "train['Financial_aid'].unique()\n",
        "\n",
        "\n",
        "\n",
        "df = []\n",
        "df = train['Friends']\n",
        "df.replace('4 or more','Extrovert',True)\n",
        "df.replace('3 or more','Friendly',True)\n",
        "df.replace('0','Lonely',True)\n",
        "df.replace('2','Introvert',True)\n",
        "df.replace('5 or more','Extrovert',True)\n",
        "df.replace('1','Lonely',True)\n",
        "df.replace('3','Friendly',True)\n",
        "df.replace('4','Extrovert',True)\n",
        "train['Friends'] = df\n",
        "train['Friends'].unique()\n",
        "\n",
        "df = []\n",
        "df = train['Siblings']\n",
        "df.replace('0','Single Child',True)\n",
        "df.replace('1','One sibling',True)\n",
        "df.replace('2','Two siblings',True)\n",
        "df.replace('3','Three siblings',True)\n",
        "df.replace('4','Large family',True)\n",
        "df.replace('5 or more','Large family',True)\n",
        "train['Siblings'] = df\n",
        "train['Siblings'].unique()\n",
        "\n",
        "df = []\n",
        "df = train['Howmetown_visits']\n",
        "df.replace('Once','Visits once',True)\n",
        "df.replace('Never','Never visits',True)\n",
        "df.replace('Twice','Visits twice',True)\n",
        "df.replace('Thrice or more','Visits often',True)\n",
        "train['Howmetown_visits'] = df\n",
        "train['Howmetown_visits'].unique()\n",
        "\n",
        "\n",
        "df = []\n",
        "df = train['Cooking']\n",
        "df.replace('Thrice','Cooks thrice',True)\n",
        "df.replace('Thrice or more','Cooks very often',True)\n",
        "df.replace('2 to 3 times','Cooks twice',True)\n",
        "df.replace('4 to 6 times','Cooks very often',True)\n",
        "df.replace('Never','Never cooks',True)\n",
        "df.replace('Everyday','Cooks everyday',True)\n",
        "train['Cooking'] = df\n",
        "train['Cooking'].unique()\n",
        "\n",
        "for column in train.columns:\n",
        "    print (column)\n",
        "    print (train[column].unique())\n",
        "    print (\"\\n\")\n"
      ],
      "execution_count": 0,
      "outputs": [
        {
          "output_type": "stream",
          "text": [
            "Age\n",
            "['18-25' 'Below 18' 'Above 30' '26-30']\n",
            "\n",
            "\n",
            "Gender\n",
            "['Female' 'Male' 'Other']\n",
            "\n",
            "\n",
            "International_Student\n",
            "[nan 'Yes' 'No']\n",
            "\n",
            "\n",
            "Educational_level\n",
            "['Graduate' 'Undergraduate' 'PhD']\n",
            "\n",
            "\n",
            "Course_difficulty\n",
            "['Moderate' 'Easy' 'Difficult']\n",
            "\n",
            "\n",
            "Networking\n",
            "['Does not know about netwrking' 'Networking happens once'\n",
            " 'Networking happens twice' 'Networking happens often']\n",
            "\n",
            "\n",
            "Financial_aid\n",
            "['Does not know about financial aid' 'University provides financial aid'\n",
            " 'University does not provide financial aid']\n",
            "\n",
            "\n",
            "Friends\n",
            "['Extrovert' 'Friendly' 'Lonely' 'Introvert']\n",
            "\n",
            "\n",
            "Siblings\n",
            "['One sibling' 'Two siblings' 'Single Child' 'Three siblings'\n",
            " 'Large family']\n",
            "\n",
            "\n",
            "Howmetown_visits\n",
            "['Visits once' 'Never visits' 'Visits twice' 'Visits often']\n",
            "\n",
            "\n",
            "Cooking\n",
            "['Cooks thrice' 'Cooks very often' 'Cooks twice' 'Cooks everyday'\n",
            " 'Never cooks']\n",
            "\n",
            "\n",
            "Homesickness\n",
            "['Twice' '4 to 6 times' '2 to 3 times' 'Everyday' 'Never']\n",
            "\n",
            "\n"
          ],
          "name": "stdout"
        }
      ]
    },
    {
      "cell_type": "code",
      "metadata": {
        "id": "XauoPodwLpdY",
        "colab_type": "code",
        "colab": {}
      },
      "source": [
        "#Filter out the local students and remove the nan records\n",
        "train = train.dropna()\n",
        "local_students = train[ train['International_Student'] == 'No' ].index\n",
        "train.drop(local_students , inplace=True)\n",
        "train['International_Student'].unique()\n",
        "train = train.drop('International_Student', axis=1)\n",
        "\n"
      ],
      "execution_count": 0,
      "outputs": []
    },
    {
      "cell_type": "code",
      "metadata": {
        "id": "XDQ70GBRLrr-",
        "colab_type": "code",
        "outputId": "358d4bf8-25c2-473f-ed61-1fa40e594d29",
        "colab": {
          "base_uri": "https://localhost:8080/",
          "height": 1000
        }
      },
      "source": [
        "data = train.values.tolist()\n",
        "oht = TransactionEncoder()\n",
        "oht_ary = oht.fit(data).transform(data)\n",
        "df = pd.DataFrame(oht_ary, columns=oht.columns_)\n",
        "print(df)\n"
      ],
      "execution_count": 0,
      "outputs": [
        {
          "output_type": "stream",
          "text": [
            "    18-25  2 to 3 times  26-30  ...  Visits often  Visits once  Visits twice\n",
            "0    True         False  False  ...         False        False         False\n",
            "1   False         False  False  ...         False        False          True\n",
            "2    True          True  False  ...         False        False         False\n",
            "3    True         False  False  ...         False        False         False\n",
            "4   False         False  False  ...         False        False         False\n",
            "5    True          True  False  ...         False         True         False\n",
            "6    True         False  False  ...         False        False         False\n",
            "7    True         False  False  ...         False         True         False\n",
            "8   False          True   True  ...         False        False         False\n",
            "9    True         False  False  ...         False        False         False\n",
            "10  False         False   True  ...         False        False         False\n",
            "11  False         False   True  ...         False        False          True\n",
            "12  False         False   True  ...         False        False         False\n",
            "13  False         False   True  ...         False         True         False\n",
            "14   True         False  False  ...         False        False         False\n",
            "15   True         False  False  ...         False        False         False\n",
            "16  False         False   True  ...         False        False         False\n",
            "17   True          True  False  ...         False        False         False\n",
            "18   True         False  False  ...         False        False         False\n",
            "19  False         False   True  ...         False         True         False\n",
            "20  False         False   True  ...         False        False         False\n",
            "21   True         False  False  ...         False        False         False\n",
            "22   True         False  False  ...         False        False         False\n",
            "23   True         False  False  ...         False        False         False\n",
            "24   True         False  False  ...         False        False         False\n",
            "25  False          True   True  ...         False         True         False\n",
            "26  False         False   True  ...         False        False          True\n",
            "27  False         False   True  ...         False        False         False\n",
            "28  False         False   True  ...         False        False         False\n",
            "29   True          True  False  ...         False        False         False\n",
            "30  False          True   True  ...         False        False         False\n",
            "31   True         False  False  ...         False        False         False\n",
            "32  False         False   True  ...         False        False         False\n",
            "33   True         False  False  ...         False        False         False\n",
            "34   True          True  False  ...         False        False         False\n",
            "35   True          True  False  ...         False        False         False\n",
            "36   True          True  False  ...         False         True         False\n",
            "37  False         False   True  ...         False         True         False\n",
            "38  False         False   True  ...         False        False          True\n",
            "39   True         False  False  ...         False        False         False\n",
            "40  False         False   True  ...         False         True         False\n",
            "41  False         False   True  ...         False        False         False\n",
            "42   True          True  False  ...         False        False         False\n",
            "43   True         False  False  ...          True        False         False\n",
            "44   True         False  False  ...         False        False          True\n",
            "45   True         False  False  ...          True        False         False\n",
            "46  False         False  False  ...          True        False         False\n",
            "47   True         False  False  ...         False        False          True\n",
            "48   True         False  False  ...         False        False          True\n",
            "49   True         False  False  ...         False        False          True\n",
            "50  False         False   True  ...         False        False         False\n",
            "51   True          True  False  ...          True        False         False\n",
            "52   True         False  False  ...          True        False         False\n",
            "53  False         False   True  ...         False         True         False\n",
            "54   True         False  False  ...         False         True         False\n",
            "\n",
            "[55 rows x 42 columns]\n"
          ],
          "name": "stdout"
        }
      ]
    },
    {
      "cell_type": "code",
      "metadata": {
        "id": "EqXD7-NiL1G_",
        "colab_type": "code",
        "outputId": "fe8178fc-9cb5-4e70-f5ff-2b1d42046d4d",
        "colab": {
          "base_uri": "https://localhost:8080/",
          "height": 476
        }
      },
      "source": [
        "frequent_itemsets = apriori(df, min_support=0.5, use_colnames=True)\n",
        "print(frequent_itemsets)"
      ],
      "execution_count": 0,
      "outputs": [
        {
          "output_type": "stream",
          "text": [
            "     support                                       itemsets\n",
            "0   0.581818                                        (18-25)\n",
            "1   0.672727                (Does not know about netwrking)\n",
            "2   0.581818                                     (Everyday)\n",
            "3   0.727273                                    (Extrovert)\n",
            "4   0.781818                                     (Graduate)\n",
            "5   0.672727                                         (Male)\n",
            "6   0.800000                                     (Moderate)\n",
            "7   0.581818                                 (Never visits)\n",
            "8   0.654545                                  (One sibling)\n",
            "9   0.581818            (University provides financial aid)\n",
            "10  0.509091                              (18-25, Moderate)\n",
            "11  0.509091     (Extrovert, Does not know about netwrking)\n",
            "12  0.563636      (Graduate, Does not know about netwrking)\n",
            "13  0.545455      (Moderate, Does not know about netwrking)\n",
            "14  0.581818                          (Extrovert, Graduate)\n",
            "15  0.636364                          (Extrovert, Moderate)\n",
            "16  0.527273                               (Male, Graduate)\n",
            "17  0.709091                           (Graduate, Moderate)\n",
            "18  0.545455                       (Graduate, Never visits)\n",
            "19  0.527273                        (Graduate, One sibling)\n",
            "20  0.509091  (Graduate, University provides financial aid)\n",
            "21  0.545455                               (Male, Moderate)\n",
            "22  0.509091                       (Never visits, Moderate)\n",
            "23  0.563636                        (One sibling, Moderate)\n",
            "24  0.545455                (Extrovert, Graduate, Moderate)\n",
            "25  0.509091             (Graduate, Never visits, Moderate)\n"
          ],
          "name": "stdout"
        }
      ]
    },
    {
      "cell_type": "code",
      "metadata": {
        "id": "CHI6Nvg3hDq1",
        "colab_type": "code",
        "outputId": "30cb200d-01e4-40ce-d11c-c3a3c5ee3a0a",
        "colab": {
          "base_uri": "https://localhost:8080/",
          "height": 119
        }
      },
      "source": [
        "rules = association_rules(frequent_itemsets, metric=\"confidence\", min_threshold=0.9)\n",
        "print(rules[['antecedents', 'consequents', 'support', 'confidence']])"
      ],
      "execution_count": 0,
      "outputs": [
        {
          "output_type": "stream",
          "text": [
            "                antecedents consequents   support  confidence\n",
            "0                (Graduate)  (Moderate)  0.709091    0.906977\n",
            "1            (Never visits)  (Graduate)  0.545455    0.937500\n",
            "2     (Extrovert, Graduate)  (Moderate)  0.545455    0.937500\n",
            "3  (Graduate, Never visits)  (Moderate)  0.509091    0.933333\n",
            "4  (Never visits, Moderate)  (Graduate)  0.509091    1.000000\n"
          ],
          "name": "stdout"
        }
      ]
    }
  ]
}