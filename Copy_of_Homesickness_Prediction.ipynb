{
  "nbformat": 4,
  "nbformat_minor": 0,
  "metadata": {
    "colab": {
      "name": "Copy of Homesickness Prediction.ipynb",
      "version": "0.3.2",
      "provenance": [],
      "collapsed_sections": [],
      "include_colab_link": true
    },
    "kernelspec": {
      "name": "python3",
      "display_name": "Python 3"
    },
    "accelerator": "GPU"
  },
  "cells": [
    {
      "cell_type": "markdown",
      "metadata": {
        "id": "view-in-github",
        "colab_type": "text"
      },
      "source": [
        "<a href=\"https://colab.research.google.com/github/SushmithaUW/Homesickness-Prediction/blob/master/Copy_of_Homesickness_Prediction.ipynb\" target=\"_parent\"><img src=\"https://colab.research.google.com/assets/colab-badge.svg\" alt=\"Open In Colab\"/></a>"
      ]
    },
    {
      "cell_type": "code",
      "metadata": {
        "id": "sMSPQQgKjVzS",
        "colab_type": "code",
        "colab": {}
      },
      "source": [
        "import warnings\n",
        "warnings.filterwarnings(\"ignore\")\n",
        "\n",
        "import pandas as pd\n",
        "import random\n",
        "from sklearn.model_selection import train_test_split # Import train_test_split function\n",
        "from sklearn import metrics\n",
        "from sklearn import preprocessing\n",
        "\n",
        "\n",
        "from sklearn.linear_model import LogisticRegression\n",
        "from sklearn.naive_bayes import MultinomialNB\n",
        "from sklearn.tree import DecisionTreeClassifier # Import Decision Tree Classifier\n",
        "\n",
        "from sklearn.model_selection import KFold\n",
        "from sklearn.model_selection import cross_val_score\n",
        "from sklearn.metrics import accuracy_score,recall_score,precision_score,f1_score\n",
        "from sklearn.metrics import confusion_matrix\n",
        "from sklearn.utils import shuffle\n",
        "from sklearn.model_selection import GridSearchCV\n",
        "\n",
        "import matplotlib.pyplot as plt\n",
        "import seaborn as sns\n",
        "from sklearn.metrics import accuracy_score\n",
        "from sklearn.preprocessing import OneHotEncoder, LabelEncoder\n",
        "import numpy as np\n",
        "\n"
      ],
      "execution_count": 0,
      "outputs": []
    },
    {
      "cell_type": "code",
      "metadata": {
        "id": "gz27jpAEjeQ2",
        "colab_type": "code",
        "outputId": "b86fd6ac-b97e-4b9e-9e41-a1f8c850a3c1",
        "colab": {
          "base_uri": "https://localhost:8080/",
          "height": 306
        }
      },
      "source": [
        "#load the data\n",
        "train = pd.read_csv('data.csv')\n",
        "train.head()\n",
        "\n",
        "#remove the unwanted columns and rows containing null values\n",
        "train = train.drop('Timestamp',axis=1)\n",
        "train = train.drop('Unnamed: 13', axis=1)\n",
        "train = train.drop('Unnamed: 14', axis=1)\n",
        "\n",
        "\n",
        "#Make the column header readable\n",
        "train.columns=['Age', 'Gender', 'International_Student', 'Educational_level', 'Course_difficulty', 'Networking', 'Financial_aid', 'Friends', 'Siblings', 'Howmetown_visits', 'Cooking', 'Homesickness']\n",
        "train.info()"
      ],
      "execution_count": 0,
      "outputs": [
        {
          "output_type": "stream",
          "text": [
            "<class 'pandas.core.frame.DataFrame'>\n",
            "RangeIndex: 116 entries, 0 to 115\n",
            "Data columns (total 12 columns):\n",
            "Age                      116 non-null object\n",
            "Gender                   116 non-null object\n",
            "International_Student    115 non-null object\n",
            "Educational_level        116 non-null object\n",
            "Course_difficulty        116 non-null int64\n",
            "Networking               116 non-null object\n",
            "Financial_aid            116 non-null object\n",
            "Friends                  116 non-null object\n",
            "Siblings                 116 non-null object\n",
            "Howmetown_visits         116 non-null object\n",
            "Cooking                  116 non-null object\n",
            "Homesickness             116 non-null object\n",
            "dtypes: int64(1), object(11)\n",
            "memory usage: 11.0+ KB\n"
          ],
          "name": "stdout"
        }
      ]
    },
    {
      "cell_type": "code",
      "metadata": {
        "id": "l7LizA1LjhRM",
        "colab_type": "code",
        "outputId": "5516deb2-ca4f-4d9e-8807-368c7875bb82",
        "colab": {
          "base_uri": "https://localhost:8080/",
          "height": 51
        }
      },
      "source": [
        "#There are same values (I don't know, Thirce, Twice, etc,) amoung columns\n",
        "#We will try to uniquely represent the values of each of the column. \n",
        "df = []\n",
        "df = train['Course_difficulty']\n",
        "df.replace(1,'Easy',True)\n",
        "df.replace(2,'Easy',True)\n",
        "df.replace(3,'Moderate',True)\n",
        "df.replace(4,'Moderate',True)\n",
        "df.replace(5,'Difficult',True)\n",
        "train['Course_difficulty'] = df\n",
        "train['Course_difficulty'].unique()\n",
        "\n",
        "df = []\n",
        "df = train['Networking']\n",
        "df.replace(\"I don't know\",'Does not know about netwrking',True)\n",
        "df.replace('Once','Networking happens once',True)\n",
        "df.replace('Twice','Networking happens twice',True)\n",
        "df.replace('Thrice or more','Networking happens often',True)\n",
        "train['Networking'] = df\n",
        "train['Networking'].unique()\n",
        "\n",
        "df = []\n",
        "df = train['Financial_aid']\n",
        "df.replace(\"I don't know\",'Does not know about financial aid',True)\n",
        "df.replace('Yes','University provides financial aid',True)\n",
        "df.replace('No','University does not provide financial aid',True)\n",
        "df.replace('Thrice or more','Networking happens often',True)\n",
        "train['Financial_aid'] = df\n",
        "train['Financial_aid'].unique()\n",
        "\n",
        "\n",
        "\n",
        "df = []\n",
        "df = train['Friends']\n",
        "df.replace('4 or more','Extrovert',True)\n",
        "df.replace('3 or more','Friendly',True)\n",
        "df.replace('0','Lonely',True)\n",
        "df.replace('2','Introvert',True)\n",
        "df.replace('5 or more','Extrovert',True)\n",
        "df.replace('1','Lonely',True)\n",
        "df.replace('3','Friendly',True)\n",
        "df.replace('4','Extrovert',True)\n",
        "train['Friends'] = df\n",
        "train['Friends'].unique()\n",
        "\n",
        "df = []\n",
        "df = train['Siblings']\n",
        "df.replace('0','Single Child',True)\n",
        "df.replace('1','One sibling',True)\n",
        "df.replace('2','Two siblings',True)\n",
        "df.replace('3','Three siblings',True)\n",
        "df.replace('4','Large family',True)\n",
        "df.replace('5 or more','Large family',True)\n",
        "train['Siblings'] = df\n",
        "train['Siblings'].unique()\n",
        "\n",
        "df = []\n",
        "df = train['Howmetown_visits']\n",
        "df.replace('Once','Visits once',True)\n",
        "df.replace('Never','Never visits',True)\n",
        "df.replace('Twice','Visits twice',True)\n",
        "df.replace('Thrice or more','Visits often',True)\n",
        "train['Howmetown_visits'] = df\n",
        "train['Howmetown_visits'].unique()\n",
        "\n",
        "\n",
        "df = []\n",
        "df = train['Cooking']\n",
        "df.replace('Thrice','Cooks thrice',True)\n",
        "df.replace('Thrice or more','Cooks very often',True)\n",
        "df.replace('2 to 3 times','Cooks twice',True)\n",
        "df.replace('4 to 6 times','Cooks very often',True)\n",
        "df.replace('Never','Never cooks',True)\n",
        "df.replace('Everyday','Cooks everyday',True)\n",
        "train['Cooking'] = df\n",
        "train['Cooking'].unique()\n"
      ],
      "execution_count": 0,
      "outputs": [
        {
          "output_type": "execute_result",
          "data": {
            "text/plain": [
              "array(['Cooks thrice', 'Cooks very often', 'Cooks twice',\n",
              "       'Cooks everyday', 'Never cooks'], dtype=object)"
            ]
          },
          "metadata": {
            "tags": []
          },
          "execution_count": 3
        }
      ]
    },
    {
      "cell_type": "code",
      "metadata": {
        "id": "L4hLq9Y7jnMH",
        "colab_type": "code",
        "outputId": "419a2791-e94e-401f-cc48-d0fb04a48ef3",
        "colab": {
          "base_uri": "https://localhost:8080/",
          "height": 34
        }
      },
      "source": [
        "\n",
        "#Filter out the local students and remove the nan records\n",
        "train = train.dropna()\n",
        "local_students = train[ train['International_Student'] == 'No' ].index\n",
        "train.drop(local_students , inplace=True)\n",
        "train['International_Student'].unique()\n",
        "train = train.drop('International_Student', axis=1)\n",
        "\n",
        "print (len(train))"
      ],
      "execution_count": 0,
      "outputs": [
        {
          "output_type": "stream",
          "text": [
            "55\n"
          ],
          "name": "stdout"
        }
      ]
    },
    {
      "cell_type": "code",
      "metadata": {
        "id": "UHTZJn9vjqZj",
        "colab_type": "code",
        "colab": {}
      },
      "source": [
        "\n",
        "for column in train.columns:\n",
        "    if train[column].dtype == type(object):\n",
        "        le = preprocessing.LabelEncoder()\n",
        "        train[column] = le.fit_transform(train[column])\n",
        "        "
      ],
      "execution_count": 0,
      "outputs": []
    },
    {
      "cell_type": "code",
      "metadata": {
        "id": "WhxWoGiOj2Cv",
        "colab_type": "code",
        "outputId": "c0fe2511-a880-4f60-b7fa-655b4c71630d",
        "colab": {
          "base_uri": "https://localhost:8080/",
          "height": 678
        }
      },
      "source": [
        "plt.figure(figsize=(12,10))\n",
        "corr = train.corr()\n",
        "s = sns.heatmap(corr, annot = True, cmap=plt.cm.Reds)\n",
        "plt.show()"
      ],
      "execution_count": 0,
      "outputs": [
        {
          "output_type": "display_data",
          "data": {
            "image/png": "[encoded data removed]",
            "text/plain": [
              "<Figure size 864x720 with 2 Axes>"
            ]
          },
          "metadata": {
            "tags": []
          }
        }
      ]
    },
    {
      "cell_type": "code",
      "metadata": {
        "id": "n4ZKXal_j4Ie",
        "colab_type": "code",
        "outputId": "4be4f60e-1c82-4bcf-d952-148cf7625b11",
        "colab": {
          "base_uri": "https://localhost:8080/",
          "height": 369
        }
      },
      "source": [
        "s = sns.catplot(x=\"Gender\", y=\"Homesickness\", data=train);\n",
        "s.savefig(\"gender.png\")\n"
      ],
      "execution_count": 0,
      "outputs": [
        {
          "output_type": "display_data",
          "data": {
            "image/png": "[encoded data removed]",
            "text/plain": [
              "<Figure size 360x360 with 1 Axes>"
            ]
          },
          "metadata": {
            "tags": []
          }
        }
      ]
    },
    {
      "cell_type": "code",
      "metadata": {
        "id": "M8OHOLN-j8xG",
        "colab_type": "code",
        "outputId": "97a2cd47-8a52-4e55-e6db-b912f3779e30",
        "colab": {
          "base_uri": "https://localhost:8080/",
          "height": 369
        }
      },
      "source": [
        "s = sns.catplot(x=\"Siblings\", y=\"Homesickness\", data=train);\n",
        "s.savefig(\"sib.png\")"
      ],
      "execution_count": 0,
      "outputs": [
        {
          "output_type": "display_data",
          "data": {
            "image/png": "[encoded data removed]",
            "text/plain": [
              "<Figure size 360x360 with 1 Axes>"
            ]
          },
          "metadata": {
            "tags": []
          }
        }
      ]
    },
    {
      "cell_type": "code",
      "metadata": {
        "id": "xpMTmtLYj-2p",
        "colab_type": "code",
        "outputId": "85c6505e-8182-4758-b145-6a1439efba3a",
        "colab": {
          "base_uri": "https://localhost:8080/",
          "height": 369
        }
      },
      "source": [
        "s = sns.catplot(x=\"Friends\", y=\"Homesickness\", data=train);\n",
        "s.savefig(\"friens.png\")"
      ],
      "execution_count": 0,
      "outputs": [
        {
          "output_type": "display_data",
          "data": {
            "image/png": "[encoded data removed]",
            "text/plain": [
              "<Figure size 360x360 with 1 Axes>"
            ]
          },
          "metadata": {
            "tags": []
          }
        }
      ]
    },
    {
      "cell_type": "code",
      "metadata": {
        "id": "nWFHe1_skBND",
        "colab_type": "code",
        "outputId": "247bb078-d6ba-46ff-b6f2-f842413e004a",
        "colab": {
          "base_uri": "https://localhost:8080/",
          "height": 369
        }
      },
      "source": [
        "s = sns.catplot(x=\"Howmetown_visits\", y=\"Homesickness\", data=train);\n",
        "s.savefig(\"hometown.png\")"
      ],
      "execution_count": 0,
      "outputs": [
        {
          "output_type": "display_data",
          "data": {
            "image/png": "[encoded data removed]",
            "text/plain": [
              "<Figure size 360x360 with 1 Axes>"
            ]
          },
          "metadata": {
            "tags": []
          }
        }
      ]
    },
    {
      "cell_type": "code",
      "metadata": {
        "id": "Vpr6lCeykC8B",
        "colab_type": "code",
        "outputId": "e7e71dd4-7b7f-401b-8fb9-0a99fb52a1c9",
        "colab": {
          "base_uri": "https://localhost:8080/",
          "height": 369
        }
      },
      "source": [
        "s = sns.catplot(x=\"Siblings\", y=\"Friends\", data=train);\n",
        "s.savefig(\"Sib_friends.png\")\n"
      ],
      "execution_count": 0,
      "outputs": [
        {
          "output_type": "display_data",
          "data": {
            "image/png": "[encoded data removed]",
            "text/plain": [
              "<Figure size 360x360 with 1 Axes>"
            ]
          },
          "metadata": {
            "tags": []
          }
        }
      ]
    },
    {
      "cell_type": "code",
      "metadata": {
        "id": "aBMnmEEbkEgP",
        "colab_type": "code",
        "outputId": "13934c4f-fc27-49e3-a1fc-f66e6f55de3b",
        "colab": {
          "base_uri": "https://localhost:8080/",
          "height": 369
        }
      },
      "source": [
        "s = sns.catplot(x=\"Course_difficulty\", y=\"Homesickness\", data=train);\n",
        "s.savefig(\"course.png\")\n"
      ],
      "execution_count": 0,
      "outputs": [
        {
          "output_type": "display_data",
          "data": {
            "image/png": "[encoded data removed]",
            "text/plain": [
              "<Figure size 360x360 with 1 Axes>"
            ]
          },
          "metadata": {
            "tags": []
          }
        }
      ]
    },
    {
      "cell_type": "code",
      "metadata": {
        "id": "sMCfYBp0kGEr",
        "colab_type": "code",
        "outputId": "d4c7f0a0-723a-4b2d-bdb3-b60a87922fb2",
        "colab": {
          "base_uri": "https://localhost:8080/",
          "height": 369
        }
      },
      "source": [
        "s = sns.catplot(x=\"Educational_level\", y=\"Homesickness\", data=train);\n",
        "s.savefig(\"course.png\")"
      ],
      "execution_count": 0,
      "outputs": [
        {
          "output_type": "display_data",
          "data": {
            "image/png": "[encoded data removed]",
            "text/plain": [
              "<Figure size 360x360 with 1 Axes>"
            ]
          },
          "metadata": {
            "tags": []
          }
        }
      ]
    },
    {
      "cell_type": "code",
      "metadata": {
        "id": "Ayj62WpwkIeO",
        "colab_type": "code",
        "colab": {}
      },
      "source": [
        "\n",
        "random.seed(300)\n",
        "random.shuffle(train.values)\n",
        "\n",
        "#Data split\n",
        "X_train, X_test, y_train, y_test = train_test_split(train.drop('Homesickness',axis=1),train['Homesickness'], test_size=0.20, random_state=101)\n",
        "y_test = y_test.values\n"
      ],
      "execution_count": 0,
      "outputs": []
    },
    {
      "cell_type": "code",
      "metadata": {
        "id": "EDRp9560kKsb",
        "colab_type": "code",
        "colab": {}
      },
      "source": [
        "num_folds = 10\n",
        "num_instances = len(X_train)\n",
        "seed = 300\n",
        "scoring = 'accuracy'\n",
        "results = []\n",
        "names = []\n",
        "    \n",
        "models = []\n",
        "models.append(('Logistic Regression', LogisticRegression()))\n",
        "models.append(('DT with gini',DecisionTreeClassifier(criterion = \"gini\")))\n",
        "models.append(('DT with entropy', DecisionTreeClassifier(criterion = \"entropy\")))\n",
        "models.append(('Naive Bayes', MultinomialNB()))"
      ],
      "execution_count": 0,
      "outputs": []
    },
    {
      "cell_type": "code",
      "metadata": {
        "id": "eBeLpYLRkMoE",
        "colab_type": "code",
        "outputId": "5d88c462-ed5f-4042-d36d-18168c337b2f",
        "colab": {
          "base_uri": "https://localhost:8080/",
          "height": 136
        }
      },
      "source": [
        "print (\"Cross Validation score for various models:\")\n",
        "for name, model in models:\n",
        "    kfold = KFold(n_splits=num_folds,random_state=seed)\n",
        "    cv_results = cross_val_score(model, X_train, y_train, cv=kfold) # Could not convert string to float happens here. Scoring uses string. \n",
        "    results.append(cv_results)\n",
        "    names.append(name)\n",
        "    msg = \"%s: %f\" % (name, cv_results.mean()*100)#multiplying by 100 to show percentage\n",
        "    print(msg)\n",
        "print(\"\\n\")    "
      ],
      "execution_count": 0,
      "outputs": [
        {
          "output_type": "stream",
          "text": [
            "Cross Validation score for various models:\n",
            "Logistic Regression: 77.000000\n",
            "DT with gini: 78.500000\n",
            "DT with entropy: 80.500000\n",
            "Naive Bayes: 77.000000\n",
            "\n",
            "\n"
          ],
          "name": "stdout"
        }
      ]
    },
    {
      "cell_type": "code",
      "metadata": {
        "id": "UDqvuIK_kNHo",
        "colab_type": "code",
        "outputId": "c7dfb18f-9b26-48ec-fc2c-0ffc5f231c9b",
        "colab": {
          "base_uri": "https://localhost:8080/",
          "height": 34
        }
      },
      "source": [
        "y_pred = LogisticRegression().fit(X_train, y_train).predict(X_test)\n",
        "accuracy_score(y_test, y_pred)"
      ],
      "execution_count": 0,
      "outputs": [
        {
          "output_type": "execute_result",
          "data": {
            "text/plain": [
              "0.6363636363636364"
            ]
          },
          "metadata": {
            "tags": []
          },
          "execution_count": 17
        }
      ]
    },
    {
      "cell_type": "code",
      "metadata": {
        "id": "4iJ8NEotkQBo",
        "colab_type": "code",
        "outputId": "372bfe5b-183b-4fbc-fc07-ecb13a36aaf2",
        "colab": {
          "base_uri": "https://localhost:8080/",
          "height": 34
        }
      },
      "source": [
        "y_pred = DecisionTreeClassifier(criterion = \"entropy\").fit(X_train, y_train).predict(X_test)\n",
        "accuracy_score(y_test, y_pred)"
      ],
      "execution_count": 0,
      "outputs": [
        {
          "output_type": "execute_result",
          "data": {
            "text/plain": [
              "0.7272727272727273"
            ]
          },
          "metadata": {
            "tags": []
          },
          "execution_count": 18
        }
      ]
    },
    {
      "cell_type": "code",
      "metadata": {
        "id": "H4oM3uhotPZw",
        "colab_type": "code",
        "outputId": "4ae57c43-e8de-400b-ae09-13ebaba87c68",
        "colab": {
          "base_uri": "https://localhost:8080/",
          "height": 34
        }
      },
      "source": [
        "y_pred = DecisionTreeClassifier(criterion = \"gini\").fit(X_train, y_train).predict(X_test)\n",
        "accuracy_score(y_test, y_pred)"
      ],
      "execution_count": 0,
      "outputs": [
        {
          "output_type": "execute_result",
          "data": {
            "text/plain": [
              "0.7272727272727273"
            ]
          },
          "metadata": {
            "tags": []
          },
          "execution_count": 19
        }
      ]
    },
    {
      "cell_type": "code",
      "metadata": {
        "id": "WD8utfvQtQEQ",
        "colab_type": "code",
        "outputId": "24268ee8-a820-439b-b6d7-fab70246059d",
        "colab": {
          "base_uri": "https://localhost:8080/",
          "height": 34
        }
      },
      "source": [
        "y_pred = MultinomialNB().fit(X_train, y_train).predict(X_test)\n",
        "accuracy_score(y_test, y_pred)"
      ],
      "execution_count": 0,
      "outputs": [
        {
          "output_type": "execute_result",
          "data": {
            "text/plain": [
              "0.5454545454545454"
            ]
          },
          "metadata": {
            "tags": []
          },
          "execution_count": 20
        }
      ]
    },
    {
      "cell_type": "code",
      "metadata": {
        "id": "FQjlZRkhkRtN",
        "colab_type": "code",
        "outputId": "7a469aeb-4517-4416-a834-4d090a254edc",
        "colab": {
          "base_uri": "https://localhost:8080/",
          "height": 224
        }
      },
      "source": [
        "\n",
        "#Penalty: l1 or l2 which species the norm used in the penalization.\n",
        "#C: Inverse of regularization strength- smaller values of C specify stronger regularization.\n",
        "#class_weight works: It penalizes mistakes in samples of class[i] with class_weight[i]\n",
        "clf = LogisticRegression()\n",
        "penalty = ['l1', 'l2']\n",
        "C = [0.0001, 0.001, 0.01, 0.1, 1, 10, 100, 1000]\n",
        "class_weight = [{1:0.5, 0:0.5}, {1:0.4, 0:0.6}, {1:0.6, 0:0.4}, {1:0.7, 0:0.3}]\n",
        "solver = ['saga', 'lbfgs']\n",
        "\n",
        "param_grid = dict(penalty=penalty,\n",
        "                  C=C,\n",
        "                  class_weight=class_weight)\n",
        "\n",
        "grid = GridSearchCV(estimator=clf,\n",
        "                    param_grid=param_grid,\n",
        "                    verbose=1,\n",
        "                    n_jobs=-1)\n",
        "grid_result = grid.fit(X_train, y_train)\n",
        "\n",
        "print (\"\\nParameter tuning for Logistic Regression:\")\n",
        "print('Best Score: ', grid_result.best_score_)\n",
        "print('Best Params: ', grid_result.best_params_)\n",
        "print(\"\\n\")\n",
        "\n"
      ],
      "execution_count": 0,
      "outputs": [
        {
          "output_type": "stream",
          "text": [
            "Fitting 3 folds for each of 64 candidates, totalling 192 fits\n"
          ],
          "name": "stdout"
        },
        {
          "output_type": "stream",
          "text": [
            "[Parallel(n_jobs=-1)]: Using backend LokyBackend with 2 concurrent workers.\n"
          ],
          "name": "stderr"
        },
        {
          "output_type": "stream",
          "text": [
            "\n",
            "Parameter tuning for Logistic Regression:\n",
            "Best Score:  0.8181818181818182\n",
            "Best Params:  {'C': 1, 'class_weight': {1: 0.5, 0: 0.5}, 'penalty': 'l2'}\n",
            "\n",
            "\n"
          ],
          "name": "stdout"
        },
        {
          "output_type": "stream",
          "text": [
            "[Parallel(n_jobs=-1)]: Done 192 out of 192 | elapsed:    3.5s finished\n",
            "/usr/local/lib/python3.6/dist-packages/sklearn/model_selection/_search.py:813: DeprecationWarning: The default of the `iid` parameter will change from True to False in version 0.22 and will be removed in 0.24. This will change numeric results when test-set sizes are unequal.\n",
            "  DeprecationWarning)\n"
          ],
          "name": "stderr"
        }
      ]
    },
    {
      "cell_type": "code",
      "metadata": {
        "id": "RZqfsngpkVWG",
        "colab_type": "code",
        "outputId": "bd067ae2-2eea-43a4-e66e-6af458409d5b",
        "colab": {
          "base_uri": "https://localhost:8080/",
          "height": 156
        }
      },
      "source": [
        "clf = DecisionTreeClassifier()\n",
        "parameters = {'min_samples_split' : range(10,500,20),'max_depth': range(1,20,2)}\n",
        "grid = GridSearchCV(clf,parameters)\n",
        "grid_result = grid.fit(X_train,y_train)\n",
        "print (\"Parameter tuning for Decision Tree Classifier:\")\n",
        "print('Best Score: ', grid_result.best_score_)\n",
        "print('Best Params: ', grid_result.best_params_)\n",
        "print(\"\\n\")"
      ],
      "execution_count": 0,
      "outputs": [
        {
          "output_type": "stream",
          "text": [
            "Parameter tuning for Decision Tree Classifier:\n",
            "Best Score:  0.7954545454545454\n",
            "Best Params:  {'max_depth': 3, 'min_samples_split': 10}\n",
            "\n",
            "\n"
          ],
          "name": "stdout"
        },
        {
          "output_type": "stream",
          "text": [
            "/usr/local/lib/python3.6/dist-packages/sklearn/model_selection/_search.py:813: DeprecationWarning: The default of the `iid` parameter will change from True to False in version 0.22 and will be removed in 0.24. This will change numeric results when test-set sizes are unequal.\n",
            "  DeprecationWarning)\n"
          ],
          "name": "stderr"
        }
      ]
    },
    {
      "cell_type": "code",
      "metadata": {
        "id": "RkBBkTvEu19E",
        "colab_type": "code",
        "outputId": "cb4bda65-37e5-4fe1-a132-5582d473df32",
        "colab": {
          "base_uri": "https://localhost:8080/",
          "height": 156
        }
      },
      "source": [
        "clf = MultinomialNB()\n",
        "parameters=dict(alpha=np.linspace(0,2,20)[1:])\n",
        "grid = GridSearchCV(clf,parameters)\n",
        "grid_result = grid.fit(X_train,y_train)\n",
        "print (\"Parameter tuning for NB Classifier:\")\n",
        "print('Best Score: ', grid_result.best_score_)\n",
        "print('Best Params: ', grid_result.best_params_)\n",
        "print(\"\\n\")\n"
      ],
      "execution_count": 0,
      "outputs": [
        {
          "output_type": "stream",
          "text": [
            "Parameter tuning for NB Classifier:\n",
            "Best Score:  0.8181818181818182\n",
            "Best Params:  {'alpha': 0.7368421052631579}\n",
            "\n",
            "\n"
          ],
          "name": "stdout"
        },
        {
          "output_type": "stream",
          "text": [
            "/usr/local/lib/python3.6/dist-packages/sklearn/model_selection/_search.py:813: DeprecationWarning: The default of the `iid` parameter will change from True to False in version 0.22 and will be removed in 0.24. This will change numeric results when test-set sizes are unequal.\n",
            "  DeprecationWarning)\n"
          ],
          "name": "stderr"
        }
      ]
    },
    {
      "cell_type": "code",
      "metadata": {
        "id": "enE4xd7JkXRV",
        "colab_type": "code",
        "colab": {}
      },
      "source": [
        "models = []\n",
        "models.append(('Logistic Regression', LogisticRegression(random_state=0, solver='saga',multi_class='multinomial', penalty = 'l2', class_weight = {1: 0.5, 0: 0.5})))\n",
        "models.append(('DT with gini',DecisionTreeClassifier(criterion = \"gini\", max_depth = 3, min_samples_split = 10)))\n",
        "models.append(('DT with entropy', DecisionTreeClassifier(criterion = \"entropy\", max_depth = 3, min_samples_split = 10)))\n",
        "models.append(('Naive Bayes', MultinomialNB(alpha=0.73)))"
      ],
      "execution_count": 0,
      "outputs": []
    },
    {
      "cell_type": "code",
      "metadata": {
        "id": "ToEYJCLdka43",
        "colab_type": "code",
        "outputId": "6b3ad1f5-07f6-4dd7-ad45-e6598aa50277",
        "colab": {
          "base_uri": "https://localhost:8080/",
          "height": 102
        }
      },
      "source": [
        "print (\"Cross Validation score after parameter tuning:\")\n",
        "for name, model in models:\n",
        "    kfold = KFold(n_splits=num_folds,random_state=seed)\n",
        "    cv_results = cross_val_score(model, X_train, y_train, cv=kfold) # Could not convert string to float happens here. Scoring uses string. \n",
        "    results.append(cv_results)\n",
        "    names.append(name)\n",
        "    msg = \"%s: %f\" % (name, cv_results.mean()*100)#multiplying by 100 to show percentage\n",
        "    print(msg)\n"
      ],
      "execution_count": 0,
      "outputs": [
        {
          "output_type": "stream",
          "text": [
            "Cross Validation score after parameter tuning:\n",
            "Logistic Regression: 79.500000\n",
            "DT with gini: 80.500000\n",
            "DT with entropy: 75.500000\n",
            "Naive Bayes: 75.000000\n"
          ],
          "name": "stdout"
        }
      ]
    },
    {
      "cell_type": "code",
      "metadata": {
        "id": "yu9oRz1U5tzV",
        "colab_type": "code",
        "outputId": "bbfd9629-96c4-4f40-f83f-d67623a136c8",
        "colab": {
          "base_uri": "https://localhost:8080/",
          "height": 34
        }
      },
      "source": [
        "y_pred = LogisticRegression(random_state=0, solver='saga',multi_class='multinomial', penalty = 'l2', class_weight = {1: 0.5, 0: 0.5}).fit(X_train, y_train).predict(X_test)\n",
        "accuracy_score(y_test, y_pred)"
      ],
      "execution_count": 0,
      "outputs": [
        {
          "output_type": "execute_result",
          "data": {
            "text/plain": [
              "0.6363636363636364"
            ]
          },
          "metadata": {
            "tags": []
          },
          "execution_count": 26
        }
      ]
    },
    {
      "cell_type": "code",
      "metadata": {
        "id": "iMReaSPE51ZL",
        "colab_type": "code",
        "outputId": "fdcf745c-e947-48d5-90eb-e52dd46ab5e0",
        "colab": {
          "base_uri": "https://localhost:8080/",
          "height": 34
        }
      },
      "source": [
        "y_pred = DecisionTreeClassifier(criterion = \"gini\", max_depth = 3, min_samples_split = 10).fit(X_train,y_train).predict(X_test)\n",
        "accuracy_score(y_test, y_pred)"
      ],
      "execution_count": 0,
      "outputs": [
        {
          "output_type": "execute_result",
          "data": {
            "text/plain": [
              "0.7272727272727273"
            ]
          },
          "metadata": {
            "tags": []
          },
          "execution_count": 27
        }
      ]
    },
    {
      "cell_type": "code",
      "metadata": {
        "id": "gHJZ1p1K545K",
        "colab_type": "code",
        "outputId": "3a95ae12-6624-4b14-ba39-1b8a3f6fa456",
        "colab": {
          "base_uri": "https://localhost:8080/",
          "height": 34
        }
      },
      "source": [
        "y_pred = DecisionTreeClassifier(criterion = \"entropy\", max_depth = 3, min_samples_split = 10).fit(X_train,y_train).predict(X_test)\n",
        "accuracy_score(y_test, y_pred)"
      ],
      "execution_count": 0,
      "outputs": [
        {
          "output_type": "execute_result",
          "data": {
            "text/plain": [
              "0.7272727272727273"
            ]
          },
          "metadata": {
            "tags": []
          },
          "execution_count": 28
        }
      ]
    },
    {
      "cell_type": "code",
      "metadata": {
        "id": "kUIFrVI36BDe",
        "colab_type": "code",
        "outputId": "5eb94563-a7c6-4876-ab89-72b9f09e9520",
        "colab": {
          "base_uri": "https://localhost:8080/",
          "height": 34
        }
      },
      "source": [
        "y_pred = MultinomialNB(alpha=0.73).fit(X_train, y_train).predict(X_test)\n",
        "accuracy_score(y_test, y_pred)"
      ],
      "execution_count": 0,
      "outputs": [
        {
          "output_type": "execute_result",
          "data": {
            "text/plain": [
              "0.5454545454545454"
            ]
          },
          "metadata": {
            "tags": []
          },
          "execution_count": 29
        }
      ]
    }
  ]
}