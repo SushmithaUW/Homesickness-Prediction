{
  "nbformat": 4,
  "nbformat_minor": 0,
  "metadata": {
    "colab": {
      "name": "KMeans.ipynb",
      "version": "0.3.2",
      "provenance": [],
      "collapsed_sections": [],
      "include_colab_link": true
    },
    "kernelspec": {
      "name": "python3",
      "display_name": "Python 3"
    },
    "accelerator": "GPU"
  },
  "cells": [
    {
      "cell_type": "markdown",
      "metadata": {
        "id": "view-in-github",
        "colab_type": "text"
      },
      "source": [
        "<a href=\"https://colab.research.google.com/github/SushmithaUW/Homesickness-Prediction/blob/master/KMeans.ipynb\" target=\"_parent\"><img src=\"https://colab.research.google.com/assets/colab-badge.svg\" alt=\"Open In Colab\"/></a>"
      ]
    },
    {
      "cell_type": "code",
      "metadata": {
        "id": "wNBQmrcQoMaI",
        "colab_type": "code",
        "colab": {}
      },
      "source": [
        "# import required libraries\n",
        "from sklearn.cluster import KMeans\n",
        "import pandas as pd\n",
        "import matplotlib.pyplot as plt\n",
        "import matplotlib\n",
        "from mpl_toolkits.mplot3d import Axes3D\n",
        "import matplotlib.pyplot as plt\n",
        "import seaborn as sns\n",
        "from sklearn.preprocessing import OneHotEncoder, LabelEncoder\n"
      ],
      "execution_count": 0,
      "outputs": []
    },
    {
      "cell_type": "code",
      "metadata": {
        "id": "zJR7P2FvoXGC",
        "colab_type": "code",
        "colab": {}
      },
      "source": [
        "\n",
        "#load the data\n",
        "train = pd.read_csv('data.csv')\n",
        "train.head()\n",
        "\n",
        "#remove the unwanted columns and rows containing null values\n",
        "train = train.drop('Timestamp',axis=1)\n",
        "train = train.drop('Unnamed: 13', axis=1)\n",
        "train = train.drop('Unnamed: 14', axis=1)\n",
        "\n",
        "\n",
        "#Make the column header readable\n",
        "train.columns=['Age', 'Gender', 'International_Student', 'Educational_level', 'Course_difficulty', 'Networking', 'Financial_aid', 'Friends', 'Siblings', 'Howmetown_visits', 'Cooking', 'Homesickness']\n",
        "train.info()\n",
        "\n",
        "#Pre-processing data to remove any reducdancy\n",
        "for column in train.columns:\n",
        "    print (column)\n",
        "    print(train[column].unique())\n",
        "    print ('\\n')\n",
        "\n",
        "#There are same values (I don't know, Thirce, Twice, etc,) amoung columns\n",
        "#We will try to uniquely represent the values of each of the column. \n",
        "df = []\n",
        "df = train['Course_difficulty']\n",
        "df.replace(1,'Easy',True)\n",
        "df.replace(2,'Easy',True)\n",
        "df.replace(3,'Moderate',True)\n",
        "df.replace(4,'Moderate',True)\n",
        "df.replace(5,'Difficult',True)\n",
        "train['Course_difficulty'] = df\n",
        "train['Course_difficulty'].unique()\n",
        "\n",
        "df = []\n",
        "df = train['Networking']\n",
        "df.replace(\"I don't know\",'Does not know about netwrking',True)\n",
        "df.replace('Once','Networking happens once',True)\n",
        "df.replace('Twice','Networking happens twice',True)\n",
        "df.replace('Thrice or more','Networking happens often',True)\n",
        "train['Networking'] = df\n",
        "train['Networking'].unique()\n",
        "\n",
        "df = []\n",
        "df = train['Financial_aid']\n",
        "df.replace(\"I don't know\",'Does not know about financial aid',True)\n",
        "df.replace('Yes','University provides financial aid',True)\n",
        "df.replace('No','University does not provide financial aid',True)\n",
        "df.replace('Thrice or more','Networking happens often',True)\n",
        "train['Financial_aid'] = df\n",
        "train['Financial_aid'].unique()\n",
        "\n",
        "\n",
        "\n",
        "df = []\n",
        "df = train['Friends']\n",
        "df.replace('4 or more','Extrovert',True)\n",
        "df.replace('3 or more','Friendly',True)\n",
        "df.replace('0','Lonely',True)\n",
        "df.replace('2','Introvert',True)\n",
        "df.replace('5 or more','Extrovert',True)\n",
        "df.replace('1','Lonely',True)\n",
        "df.replace('3','Friendly',True)\n",
        "df.replace('4','Extrovert',True)\n",
        "train['Friends'] = df\n",
        "train['Friends'].unique()\n",
        "\n",
        "df = []\n",
        "df = train['Siblings']\n",
        "df.replace('0','Single Child',True)\n",
        "df.replace('1','One sibling',True)\n",
        "df.replace('2','Two siblings',True)\n",
        "df.replace('3','Three siblings',True)\n",
        "df.replace('4','Large family',True)\n",
        "df.replace('5 or more','Large family',True)\n",
        "train['Siblings'] = df\n",
        "train['Siblings'].unique()\n",
        "\n",
        "df = []\n",
        "df = train['Howmetown_visits']\n",
        "df.replace('Once','Visits once',True)\n",
        "df.replace('Never','Never visits',True)\n",
        "df.replace('Twice','Visits twice',True)\n",
        "df.replace('Thrice or more','Visits often',True)\n",
        "train['Howmetown_visits'] = df\n",
        "train['Howmetown_visits'].unique()\n",
        "\n",
        "\n",
        "df = []\n",
        "df = train['Cooking']\n",
        "df.replace('Thrice','Cooks thrice',True)\n",
        "df.replace('Thrice or more','Cooks very often',True)\n",
        "df.replace('2 to 3 times','Cooks twice',True)\n",
        "df.replace('4 to 6 times','Cooks very often',True)\n",
        "df.replace('Never','Never cooks',True)\n",
        "df.replace('Everyday','Cooks everyday',True)\n",
        "train['Cooking'] = df\n",
        "train['Cooking'].unique()\n",
        "\n",
        "for column in train.columns:\n",
        "    print (column)\n",
        "    print (train[column].unique())\n",
        "    print (\"\\n\")\n",
        "\n",
        "\n",
        "#Filter out the local students and remove the nan records\n",
        "train = train.dropna()\n",
        "local_students = train[ train['International_Student'] == 'No' ].index\n",
        "train.drop(local_students , inplace=True)\n",
        "train['International_Student'].unique()\n",
        "train = train.drop('International_Student', axis=1)"
      ],
      "execution_count": 0,
      "outputs": []
    },
    {
      "cell_type": "code",
      "metadata": {
        "id": "IY6EJqLuokAA",
        "colab_type": "code",
        "outputId": "904ea483-936b-4d4b-daec-4926d5d452f1",
        "colab": {
          "base_uri": "https://localhost:8080/",
          "height": 34
        }
      },
      "source": [
        "print (len(train))\n"
      ],
      "execution_count": 0,
      "outputs": [
        {
          "output_type": "stream",
          "text": [
            "55\n"
          ],
          "name": "stdout"
        }
      ]
    },
    {
      "cell_type": "code",
      "metadata": {
        "id": "bO29UZNoA7GT",
        "colab_type": "code",
        "colab": {}
      },
      "source": [
        "for column in train.columns:\n",
        "    if train[column].dtype == type(object):\n",
        "        le = LabelEncoder()\n",
        "        train[column] = le.fit_transform(train[column])\n",
        "        "
      ],
      "execution_count": 0,
      "outputs": []
    },
    {
      "cell_type": "code",
      "metadata": {
        "id": "WYNNhY3fsom4",
        "colab_type": "code",
        "colab": {}
      },
      "source": [
        "train.drop(['Age','Gender','Educational_level','Course_difficulty','Networking','Financial_aid','Friends','Siblings','Howmetown_visits','Cooking'], axis=1,inplace=True)\n",
        "train = pd.concat([train, Age ,Gender ,Educational_level ,Course_difficulty ,Friends ,Siblings ,Howmetown_visits ,Cooking ],axis=1)\n",
        "\n"
      ],
      "execution_count": 0,
      "outputs": []
    },
    {
      "cell_type": "code",
      "metadata": {
        "id": "6KsvBCo667N2",
        "colab_type": "code",
        "outputId": "e43470a4-cd90-4d4d-df11-1e6d8aadbb71",
        "colab": {
          "base_uri": "https://localhost:8080/",
          "height": 34
        }
      },
      "source": [
        "le = LabelEncoder()\n",
        "train['Homesickness'] = le.fit_transform(train['Homesickness'])\n",
        "le_mappings = {index: label for index, label in \n",
        "                  enumerate(le.classes_)}\n",
        "\n",
        "le_mappings"
      ],
      "execution_count": 0,
      "outputs": [
        {
          "output_type": "execute_result",
          "data": {
            "text/plain": [
              "{0: '2 to 3 times', 1: '4 to 6 times', 2: 'Everyday', 3: 'Never', 4: 'Twice'}"
            ]
          },
          "metadata": {
            "tags": []
          },
          "execution_count": 92
        }
      ]
    },
    {
      "cell_type": "code",
      "metadata": {
        "id": "Hz2pMGnw7T8Y",
        "colab_type": "code",
        "outputId": "1786fcba-0e61-4631-bd28-b3dec90392b5",
        "colab": {
          "base_uri": "https://localhost:8080/",
          "height": 306
        }
      },
      "source": [
        "print (train.info())"
      ],
      "execution_count": 0,
      "outputs": [
        {
          "output_type": "stream",
          "text": [
            "<class 'pandas.core.frame.DataFrame'>\n",
            "Int64Index: 55 entries, 1 to 115\n",
            "Data columns (total 11 columns):\n",
            "Age                  55 non-null int64\n",
            "Gender               55 non-null int64\n",
            "Educational_level    55 non-null int64\n",
            "Course_difficulty    55 non-null int64\n",
            "Networking           55 non-null int64\n",
            "Financial_aid        55 non-null int64\n",
            "Friends              55 non-null int64\n",
            "Siblings             55 non-null int64\n",
            "Howmetown_visits     55 non-null int64\n",
            "Cooking              55 non-null int64\n",
            "Homesickness         55 non-null int64\n",
            "dtypes: int64(11)\n",
            "memory usage: 5.2 KB\n",
            "None\n"
          ],
          "name": "stdout"
        }
      ]
    },
    {
      "cell_type": "code",
      "metadata": {
        "id": "k6diauCqotbU",
        "colab_type": "code",
        "colab": {}
      },
      "source": [
        "X = train.drop('Homesickness',axis=1)\n",
        "y_true = train['Homesickness']\n"
      ],
      "execution_count": 0,
      "outputs": []
    },
    {
      "cell_type": "code",
      "metadata": {
        "id": "qRbxEfoDpByw",
        "colab_type": "code",
        "outputId": "84d15cf7-b11b-4485-92ce-727a9d86cc01",
        "colab": {
          "base_uri": "https://localhost:8080/",
          "height": 153
        }
      },
      "source": [
        "# create kmeans object and call fit\n",
        "kmeans = KMeans(n_clusters=2, init='k-means++', random_state=170)\n",
        "kmeans = kmeans.fit(train)\n",
        "print(\"The cluster centroids are: \\n\", kmeans.cluster_centers_)\n",
        "print(\"Cluster_label:\\n\", kmeans.labels_)\n",
        "# print(\"Sum of distances of samples to their closest cluster center: \\n\", kmeans.inertia_)"
      ],
      "execution_count": 0,
      "outputs": [
        {
          "output_type": "stream",
          "text": [
            "The cluster centroids are: \n",
            " [[0.40540541 0.67567568 0.02702703 1.89189189 0.67567568 1.59459459\n",
            "  0.37837838 1.45945946 0.2972973  0.89189189 1.54054054]\n",
            " [0.66666667 0.88888889 1.16666667 1.5        0.66666667 1.\n",
            "  0.94444444 1.77777778 2.11111111 1.66666667 1.38888889]]\n",
            "Cluster_label:\n",
            " [0 1 0 0 0 1 0 0 0 0 0 1 0 0 0 0 0 0 0 1 0 0 0 0 0 1 1 0 0 0 0 0 0 0 0 0 0\n",
            " 0 1 0 1 0 1 1 1 1 1 1 1 1 0 1 0 1 0]\n"
          ],
          "name": "stdout"
        }
      ]
    },
    {
      "cell_type": "code",
      "metadata": {
        "id": "vGWj_2evpGuU",
        "colab_type": "code",
        "outputId": "55e32782-9233-4493-d763-9c995c94e233",
        "colab": {
          "base_uri": "https://localhost:8080/",
          "height": 284
        }
      },
      "source": [
        "kmeans = KMeans(n_clusters=2, init='k-means++', random_state=170)\n",
        "kmeans = kmeans.fit(train)\n",
        "colors = ['blue','red']\n",
        "\n",
        "plt.scatter(train.Course_difficulty, \n",
        "            train.Homesickness,  \n",
        "            c=kmeans.labels_, \n",
        "            cmap=matplotlib.colors.ListedColormap(colors), \n",
        "            s=75)\n",
        "plt.xlabel('Course_Difficluty')\n",
        "plt.ylabel('Homesickness')\n",
        "plt.show()\n"
      ],
      "execution_count": 0,
      "outputs": [
        {
          "output_type": "display_data",
          "data": {
            "image/png": "[encoded data removed]",
            "text/plain": [
              "<Figure size 432x288 with 1 Axes>"
            ]
          },
          "metadata": {
            "tags": []
          }
        }
      ]
    },
    {
      "cell_type": "code",
      "metadata": {
        "id": "ZTB7dt_Z-q58",
        "colab_type": "code",
        "outputId": "59e28dfb-efdd-42f2-d09f-0ea605d0154c",
        "colab": {
          "base_uri": "https://localhost:8080/",
          "height": 283
        }
      },
      "source": [
        "kmeans = KMeans(n_clusters=2, init='k-means++', random_state=170)\n",
        "kmeans = kmeans.fit(train)\n",
        "colors = ['blue','red']\n",
        "\n",
        "plt.scatter(train.Educational_level, \n",
        "            train.Homesickness, \n",
        "            c=kmeans.labels_, \n",
        "            cmap=matplotlib.colors.ListedColormap(colors), \n",
        "            s=75)\n",
        "plt.xlabel('Education')\n",
        "plt.ylabel('Homesickness')\n",
        "plt.show()\n"
      ],
      "execution_count": 0,
      "outputs": [
        {
          "output_type": "display_data",
          "data": {
            "image/png": "[encoded data removed]",
            "text/plain": [
              "<Figure size 432x288 with 1 Axes>"
            ]
          },
          "metadata": {
            "tags": []
          }
        }
      ]
    },
    {
      "cell_type": "code",
      "metadata": {
        "id": "ue_Ntr7r_J9K",
        "colab_type": "code",
        "outputId": "02aa0e45-3d87-4ffa-d4e6-cac2db1b8230",
        "colab": {
          "base_uri": "https://localhost:8080/",
          "height": 283
        }
      },
      "source": [
        "kmeans = KMeans(n_clusters=3, init='k-means++', random_state=170)\n",
        "kmeans = kmeans.fit(train)\n",
        "colors = ['blue','red', 'green']\n",
        "\n",
        "plt.scatter(train.Friends, \n",
        "            train.Homesickness, \n",
        "            c=kmeans.labels_, \n",
        "            cmap=matplotlib.colors.ListedColormap(colors), \n",
        "            s=75)\n",
        "plt.xlabel('Friends')\n",
        "plt.ylabel('Homesickness')\n",
        "plt.show()"
      ],
      "execution_count": 0,
      "outputs": [
        {
          "output_type": "display_data",
          "data": {
            "image/png": "[encoded data removed]",
            "text/plain": [
              "<Figure size 432x288 with 1 Axes>"
            ]
          },
          "metadata": {
            "tags": []
          }
        }
      ]
    },
    {
      "cell_type": "code",
      "metadata": {
        "id": "NlWMttzZpnMB",
        "colab_type": "code",
        "outputId": "e08b9c65-523f-4344-93b2-9a19a212bc40",
        "colab": {
          "base_uri": "https://localhost:8080/",
          "height": 969
        }
      },
      "source": [
        "#predict the class for each data point\n",
        "y_pred = kneighboursclassifier.predict(X)\n",
        "print(\"Predictions: \\n\", np.array([y_pred]).T)"
      ],
      "execution_count": 0,
      "outputs": [
        {
          "output_type": "stream",
          "text": [
            "Predictions: \n",
            " [[0]\n",
            " [0]\n",
            " [2]\n",
            " [2]\n",
            " [2]\n",
            " [0]\n",
            " [2]\n",
            " [2]\n",
            " [0]\n",
            " [2]\n",
            " [2]\n",
            " [2]\n",
            " [0]\n",
            " [2]\n",
            " [2]\n",
            " [2]\n",
            " [2]\n",
            " [2]\n",
            " [2]\n",
            " [2]\n",
            " [2]\n",
            " [2]\n",
            " [2]\n",
            " [2]\n",
            " [2]\n",
            " [0]\n",
            " [0]\n",
            " [2]\n",
            " [2]\n",
            " [0]\n",
            " [2]\n",
            " [1]\n",
            " [2]\n",
            " [2]\n",
            " [2]\n",
            " [0]\n",
            " [2]\n",
            " [2]\n",
            " [1]\n",
            " [2]\n",
            " [1]\n",
            " [2]\n",
            " [0]\n",
            " [0]\n",
            " [2]\n",
            " [0]\n",
            " [2]\n",
            " [2]\n",
            " [2]\n",
            " [2]\n",
            " [0]\n",
            " [0]\n",
            " [1]\n",
            " [2]\n",
            " [2]]\n"
          ],
          "name": "stdout"
        }
      ]
    },
    {
      "cell_type": "code",
      "metadata": {
        "id": "lbuLP0rHppjq",
        "colab_type": "code",
        "outputId": "ae955315-4a45-42e2-bc1e-12b35f6f3543",
        "colab": {
          "base_uri": "https://localhost:8080/",
          "height": 1000
        }
      },
      "source": [
        "print(\"Neighbors and their Distance: \\n\",kneighboursclassifier.kneighbors(X, return_distance=True))"
      ],
      "execution_count": 0,
      "outputs": [
        {
          "output_type": "stream",
          "text": [
            "Neighbors and their Distance: \n",
            " (array([[0.        , 1.41421356, 1.41421356],\n",
            "       [0.        , 4.24264069, 4.35889894],\n",
            "       [0.        , 1.        , 1.73205081],\n",
            "       [0.        , 0.        , 1.        ],\n",
            "       [0.        , 1.41421356, 2.        ],\n",
            "       [0.        , 3.        , 3.        ],\n",
            "       [0.        , 1.        , 1.41421356],\n",
            "       [0.        , 1.41421356, 2.44948974],\n",
            "       [0.        , 2.82842712, 3.        ],\n",
            "       [0.        , 1.        , 1.        ],\n",
            "       [0.        , 1.41421356, 1.41421356],\n",
            "       [0.        , 1.73205081, 1.73205081],\n",
            "       [0.        , 1.41421356, 1.41421356],\n",
            "       [0.        , 1.        , 1.73205081],\n",
            "       [0.        , 1.        , 1.        ],\n",
            "       [0.        , 1.        , 1.        ],\n",
            "       [0.        , 1.        , 1.        ],\n",
            "       [0.        , 1.        , 1.        ],\n",
            "       [0.        , 1.        , 2.        ],\n",
            "       [0.        , 2.64575131, 2.64575131],\n",
            "       [0.        , 2.        , 2.23606798],\n",
            "       [0.        , 1.41421356, 1.41421356],\n",
            "       [0.        , 0.        , 1.        ],\n",
            "       [0.        , 1.        , 1.        ],\n",
            "       [0.        , 1.41421356, 1.73205081],\n",
            "       [0.        , 2.        , 2.23606798],\n",
            "       [0.        , 2.23606798, 2.64575131],\n",
            "       [0.        , 1.        , 1.41421356],\n",
            "       [0.        , 1.        , 1.73205081],\n",
            "       [0.        , 1.        , 1.41421356],\n",
            "       [0.        , 2.23606798, 2.23606798],\n",
            "       [0.        , 1.41421356, 1.73205081],\n",
            "       [0.        , 1.73205081, 2.        ],\n",
            "       [0.        , 1.        , 1.        ],\n",
            "       [0.        , 1.        , 1.41421356],\n",
            "       [0.        , 1.        , 1.41421356],\n",
            "       [0.        , 1.73205081, 2.        ],\n",
            "       [0.        , 1.        , 2.        ],\n",
            "       [0.        , 1.73205081, 2.        ],\n",
            "       [0.        , 1.73205081, 2.        ],\n",
            "       [0.        , 1.73205081, 2.23606798],\n",
            "       [0.        , 1.73205081, 1.73205081],\n",
            "       [0.        , 3.31662479, 3.46410162],\n",
            "       [0.        , 2.44948974, 2.82842712],\n",
            "       [0.        , 1.41421356, 2.44948974],\n",
            "       [0.        , 3.87298335, 4.        ],\n",
            "       [0.        , 3.16227766, 3.16227766],\n",
            "       [0.        , 1.41421356, 2.44948974],\n",
            "       [0.        , 3.        , 3.31662479],\n",
            "       [0.        , 1.41421356, 1.41421356],\n",
            "       [0.        , 1.73205081, 2.        ],\n",
            "       [0.        , 3.31662479, 3.31662479],\n",
            "       [0.        , 1.41421356, 1.73205081],\n",
            "       [0.        , 3.        , 3.16227766],\n",
            "       [0.        , 1.41421356, 2.44948974]]), array([[ 0, 17,  6],\n",
            "       [ 1, 53, 25],\n",
            "       [ 2, 18, 39],\n",
            "       [22,  3,  9],\n",
            "       [ 4, 10, 27],\n",
            "       [ 5,  6,  0],\n",
            "       [ 6, 15,  0],\n",
            "       [ 7, 54, 21],\n",
            "       [ 8,  6,  5],\n",
            "       [ 9, 15,  3],\n",
            "       [10, 17,  4],\n",
            "       [11, 36, 13],\n",
            "       [12, 29, 15],\n",
            "       [13, 37, 11],\n",
            "       [14, 22,  3],\n",
            "       [15,  6,  9],\n",
            "       [16, 28, 27],\n",
            "       [17, 15,  3],\n",
            "       [18,  2, 39],\n",
            "       [19, 12, 13],\n",
            "       [20, 28, 16],\n",
            "       [21, 24, 23],\n",
            "       [22,  3,  9],\n",
            "       [23, 22,  3],\n",
            "       [24, 21, 41],\n",
            "       [25, 52, 26],\n",
            "       [26, 25, 52],\n",
            "       [27, 16, 10],\n",
            "       [28, 16, 31],\n",
            "       [29, 35, 15],\n",
            "       [30, 14, 10],\n",
            "       [31, 52, 28],\n",
            "       [32, 21,  2],\n",
            "       [33, 22,  3],\n",
            "       [34, 15,  6],\n",
            "       [35, 29, 34],\n",
            "       [36, 11, 13],\n",
            "       [37, 13, 11],\n",
            "       [38, 40, 13],\n",
            "       [39,  2, 18],\n",
            "       [40, 38, 13],\n",
            "       [41, 24, 21],\n",
            "       [42, 51,  2],\n",
            "       [43, 44, 34],\n",
            "       [44, 49, 43],\n",
            "       [45, 25, 20],\n",
            "       [46, 50, 37],\n",
            "       [47, 49, 44],\n",
            "       [48, 43, 44],\n",
            "       [49, 44, 47],\n",
            "       [50, 41, 34],\n",
            "       [51, 42,  5],\n",
            "       [52, 31, 28],\n",
            "       [53, 25,  7],\n",
            "       [54,  7, 21]]))\n"
          ],
          "name": "stdout"
        }
      ]
    },
    {
      "cell_type": "code",
      "metadata": {
        "id": "0YQlD1M_pxoG",
        "colab_type": "code",
        "outputId": "f9aaeb93-77b2-402b-de5c-4192ba5a8933",
        "colab": {
          "base_uri": "https://localhost:8080/",
          "height": 51
        }
      },
      "source": [
        "print(\"Accuracy score for the model: \\n\", kneighboursclassifier.score(X, y_true))"
      ],
      "execution_count": 0,
      "outputs": [
        {
          "output_type": "stream",
          "text": [
            "Accuracy score for the model: \n",
            " 0.6909090909090909\n"
          ],
          "name": "stdout"
        }
      ]
    },
    {
      "cell_type": "code",
      "metadata": {
        "id": "IDsvdT73p1sG",
        "colab_type": "code",
        "colab": {}
      },
      "source": [
        "print(metrics.confusion_matrix(y_true, y_pred, labels=[\"Yes\",\"No\"]))"
      ],
      "execution_count": 0,
      "outputs": []
    }
  ]
}